{
  "cells": [
    {
      "cell_type": "code",
      "execution_count": null,
      "metadata": {
        "vscode": {
          "languageId": "plaintext"
        }
      },
      "outputs": [],
      "source": [
        "# LLM Provider Comparison\n",
        "\n",
        "This notebook compares different LLM providers (Ollama, OpenAI, Gemini) for:\n",
        "- Response quality\n",
        "- Processing speed\n",
        "- Cost considerations\n",
        "- Reliability\n",
        "\n",
        "## Providers Tested\n",
        "- **Ollama**: Local models (privacy-first, no API costs)\n",
        "- **OpenAI**: GPT models (high quality, API costs)\n",
        "- **Google Gemini**: Competitive quality and pricing\n"
      ]
    },
    {
      "cell_type": "code",
      "execution_count": null,
      "metadata": {},
      "outputs": [],
      "source": [
        "import sys\n",
        "import time\n",
        "import json\n",
        "from datetime import datetime\n",
        "import pandas as pd\n",
        "\n",
        "# Add src to path\n",
        "sys.path.append('../src')\n",
        "\n",
        "from dotenv import load_dotenv\n",
        "load_dotenv()\n",
        "\n",
        "# Import your LLM clients (adjust imports based on actual implementation)\n",
        "# from src.llm.google_client import GoogleLLMClient\n",
        "# from src.llm.openai_client import OpenAILLMClient  \n",
        "# from src.llm.ollama_client import OllamaLLMClient\n",
        "\n",
        "print(\"Setup complete!\")\n"
      ]
    },
    {
      "cell_type": "code",
      "execution_count": null,
      "metadata": {},
      "outputs": [],
      "source": [
        "def benchmark_provider(client, prompt, test_name, iterations=3):\n",
        "    \"\"\"Benchmark a specific LLM provider\"\"\"\n",
        "    results = []\n",
        "    \n",
        "    for i in range(iterations):\n",
        "        start_time = time.time()\n",
        "        try:\n",
        "            response = client.complete(prompt)\n",
        "            end_time = time.time()\n",
        "            \n",
        "            result = {\n",
        "                'test_name': test_name,\n",
        "                'provider': client.__class__.__name__,\n",
        "                'iteration': i + 1,\n",
        "                'response_time': end_time - start_time,\n",
        "                'response': response,\n",
        "                'success': True,\n",
        "                'timestamp': datetime.now().isoformat()\n",
        "            }\n",
        "        except Exception as e:\n",
        "            end_time = time.time()\n",
        "            result = {\n",
        "                'test_name': test_name,\n",
        "                'provider': client.__class__.__name__,\n",
        "                'iteration': i + 1,\n",
        "                'response_time': end_time - start_time,\n",
        "                'response': None,\n",
        "                'success': False,\n",
        "                'error': str(e),\n",
        "                'timestamp': datetime.now().isoformat()\n",
        "            }\n",
        "        \n",
        "        results.append(result)\n",
        "        print(f\"{client.__class__.__name__} - Iteration {i+1}: {result['response_time']:.2f}s\")\n",
        "    \n",
        "    return results\n",
        "\n",
        "# Test prompts\n",
        "test_prompts = {\n",
        "    \"simple_tagging\": \"Extract 3-5 tags from this text: 'I need to buy groceries and pick up my car from the mechanic tomorrow.'\",\n",
        "    \"entity_extraction\": \"Extract all people, places, and dates from: 'John met Sarah at Central Park on March 15th to discuss the project.'\",\n",
        "    \"summarization\": \"Summarize this in one sentence: 'The quarterly meeting covered budget allocations, new hiring plans, and the upcoming product launch scheduled for next month.'\"\n",
        "}\n",
        "\n",
        "print(\"Benchmark functions ready!\")\n"
      ]
    }
  ],
  "metadata": {
    "language_info": {
      "name": "python"
    }
  },
  "nbformat": 4,
  "nbformat_minor": 2
}
