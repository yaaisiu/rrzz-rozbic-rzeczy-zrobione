{
  "cells": [
    {
      "cell_type": "code",
      "execution_count": null,
      "metadata": {
        "vscode": {
          "languageId": "plaintext"
        }
      },
      "outputs": [],
      "source": [
        "# Embedding Analysis & Similarity\n",
        "\n",
        "This notebook explores:\n",
        "- Text embeddings for notes\n",
        "- Similarity calculations between notes\n",
        "- Clustering and visualization\n",
        "- Semantic search capabilities\n",
        "\n",
        "## Use Cases\n",
        "- Find similar notes\n",
        "- Identify note clusters/topics\n",
        "- Improve search relevance\n",
        "- Discover hidden connections\n"
      ]
    },
    {
      "cell_type": "code",
      "execution_count": null,
      "metadata": {},
      "outputs": [],
      "source": [
        "import sys\n",
        "import numpy as np\n",
        "import pandas as pd\n",
        "from sklearn.metrics.pairwise import cosine_similarity\n",
        "from sklearn.cluster import KMeans\n",
        "from sklearn.manifold import TSNE\n",
        "import matplotlib.pyplot as plt\n",
        "import seaborn as sns\n",
        "\n",
        "# Add src to path\n",
        "sys.path.append('../src')\n",
        "\n",
        "from dotenv import load_dotenv\n",
        "load_dotenv()\n",
        "\n",
        "# LangChain imports for embeddings\n",
        "try:\n",
        "    from langchain.embeddings import OpenAIEmbeddings, OllamaEmbeddings\n",
        "    from langchain_google_genai import GoogleGenerativeAIEmbeddings\n",
        "    print(\"✅ LangChain embeddings available\")\n",
        "except ImportError:\n",
        "    print(\"⚠️  LangChain embeddings not available - install langchain packages\")\n",
        "\n",
        "print(\"Embedding analysis setup complete!\")\n"
      ]
    },
    {
      "cell_type": "code",
      "execution_count": null,
      "metadata": {},
      "outputs": [],
      "source": [
        "# Sample notes for embedding analysis\n",
        "sample_notes = [\n",
        "    \"Machine learning algorithms can be supervised, unsupervised, or reinforcement learning.\",\n",
        "    \"The weather today is sunny and warm, perfect for a walk in the park.\",\n",
        "    \"Deep learning uses neural networks with multiple layers to learn complex patterns.\",\n",
        "    \"I need to buy groceries: milk, bread, eggs, and vegetables for dinner.\",\n",
        "    \"Natural language processing helps computers understand and generate human language.\",\n",
        "    \"The meeting is scheduled for 3 PM in the conference room on the second floor.\",\n",
        "    \"Artificial intelligence is transforming industries from healthcare to finance.\",\n",
        "    \"Don't forget to call mom this weekend and wish her a happy birthday.\",\n",
        "    \"Computer vision enables machines to interpret and understand visual information.\",\n",
        "    \"The project deadline has been extended by two weeks due to resource constraints.\"\n",
        "]\n",
        "\n",
        "def get_embeddings(texts, embedding_model):\n",
        "    \"\"\"Generate embeddings for a list of texts\"\"\"\n",
        "    try:\n",
        "        embeddings = embedding_model.embed_documents(texts)\n",
        "        return np.array(embeddings)\n",
        "    except Exception as e:\n",
        "        print(f\"Error generating embeddings: {e}\")\n",
        "        return None\n",
        "\n",
        "def calculate_similarity_matrix(embeddings):\n",
        "    \"\"\"Calculate cosine similarity matrix\"\"\"\n",
        "    return cosine_similarity(embeddings)\n",
        "\n",
        "def find_similar_notes(query_idx, similarity_matrix, texts, top_k=3):\n",
        "    \"\"\"Find most similar notes to a given note\"\"\"\n",
        "    similarities = similarity_matrix[query_idx]\n",
        "    # Get indices of most similar notes (excluding self)\n",
        "    similar_indices = np.argsort(similarities)[::-1][1:top_k+1]\n",
        "    \n",
        "    results = []\n",
        "    for idx in similar_indices:\n",
        "        results.append({\n",
        "            'index': idx,\n",
        "            'similarity': similarities[idx],\n",
        "            'text': texts[idx]\n",
        "        })\n",
        "    \n",
        "    return results\n",
        "\n",
        "print(\"Embedding analysis functions ready!\")\n"
      ]
    }
  ],
  "metadata": {
    "language_info": {
      "name": "python"
    }
  },
  "nbformat": 4,
  "nbformat_minor": 2
}
